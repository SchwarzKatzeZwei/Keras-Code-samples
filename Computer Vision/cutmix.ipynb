{
  "cells": [
    {
      "cell_type": "markdown",
      "metadata": {
        "id": "WYOVVw8tZbk8"
      },
      "source": [
        "# CutMix data augmentation for image classification (画像分類のためのCutMixによるデータ補強)\n",
        "\n",
        "**Author:** [Sayan Nath](https://twitter.com/sayannath2350)<br>\n",
        "**Date created:** 2021/06/08<br>\n",
        "**Last modified:** 2021/06/08<br>\n",
        "**Description:** Data augmentation with CutMix for image classification on CIFAR-10."
      ]
    },
    {
      "cell_type": "markdown",
      "metadata": {
        "id": "0DDLHjF9Zbk-"
      },
      "source": [
        "## 序章"
      ]
    },
    {
      "cell_type": "markdown",
      "metadata": {
        "id": "ZK0aCZddZbk-"
      },
      "source": [
        "_CutMix_は、地域別ドロップアウト戦略に見られる情報損失と非効率性の問題を解決するデータ補強技術です。\n",
        "ピクセルを削除して黒やグレーのピクセルやガウスノイズで埋めるのではなく、削除した領域を別の画像のパッチで置き換えます。\n",
        "その際，結合された画像のピクセル数に比例して，グランドトゥルースラベルが混合されます．\n",
        "CutMixは次のように提案されています．\n",
        "[CutMix:Regularization Strategy to Train Strong Classifiers with Localizable Features](https://arxiv.org/pdf/1905.04899.pdf)\n",
        "(Yun et al., 2019)\n",
        "\n",
        "以下のような数式で実装されています。\n",
        "![](https://i.imgur.com/cGvd13V.png)\n",
        "ここで、`M`はランダムに描かれた2枚の画像から切り出し領域と塗り潰し領域を示す2値マスク、`λ`（`[0，1]`）はBeta（α，α）分布から引かれたものである。\n",
        "[Beta(α, α) distribution](https://en.wikipedia.org/wiki/Beta_distribution)\n",
        "\n",
        "バウンディングボックスの座標は：\n",
        "![](https://i.imgur.com/eNisep4.png)\n",
        "は、画像の場合、切り出し領域と塗り潰し領域を示す。\n",
        "バウンディングボックスサンプリングは、以下のように表される。\n",
        "\n",
        "![](https://i.imgur.com/Snph9aj.png)\n",
        "ここで、`rx, ry` は上界を持つ一様分布からランダムに引き出される。"
      ]
    },
    {
      "cell_type": "markdown",
      "metadata": {
        "id": "6zxsAxURZbk_"
      },
      "source": [
        "## 設定"
      ]
    },
    {
      "cell_type": "code",
      "execution_count": 2,
      "metadata": {
        "id": "vFVZNc_FZbk_"
      },
      "outputs": [],
      "source": [
        "import numpy as np\n",
        "import pandas as pd\n",
        "import matplotlib.pyplot as plt\n",
        "import tensorflow as tf\n",
        "from tensorflow import keras\n",
        "\n",
        "np.random.seed(42)\n",
        "tf.random.set_seed(42)"
      ]
    },
    {
      "cell_type": "markdown",
      "metadata": {
        "id": "dq6xfHAqZblA"
      },
      "source": [
        "## CIFAR-10データセットの読み込み\n",
        "\n",
        "この例では\n",
        "[CIFAR-10 image classification dataset](https://www.cs.toronto.edu/~kriz/cifar.html)."
      ]
    },
    {
      "cell_type": "code",
      "execution_count": 3,
      "metadata": {
        "id": "1pIXkBOoZblA"
      },
      "outputs": [
        {
          "name": "stdout",
          "output_type": "stream",
          "text": [
            "(50000, 32, 32, 3)\n",
            "(50000, 10)\n",
            "(10000, 32, 32, 3)\n",
            "(10000, 10)\n"
          ]
        }
      ],
      "source": [
        "(x_train, y_train), (x_test, y_test) = tf.keras.datasets.cifar10.load_data()\n",
        "y_train = tf.keras.utils.to_categorical(y_train, num_classes=10)\n",
        "y_test = tf.keras.utils.to_categorical(y_test, num_classes=10)\n",
        "\n",
        "print(x_train.shape)\n",
        "print(y_train.shape)\n",
        "print(x_test.shape)\n",
        "print(y_test.shape)\n",
        "\n",
        "class_names = [\n",
        "    \"Airplane\",\n",
        "    \"Automobile\",\n",
        "    \"Bird\",\n",
        "    \"Cat\",\n",
        "    \"Deer\",\n",
        "    \"Dog\",\n",
        "    \"Frog\",\n",
        "    \"Horse\",\n",
        "    \"Ship\",\n",
        "    \"Truck\",\n",
        "]"
      ]
    },
    {
      "cell_type": "markdown",
      "metadata": {
        "id": "1B4ArdoPZblB"
      },
      "source": [
        "## ハイパーパラメータの定義"
      ]
    },
    {
      "cell_type": "code",
      "execution_count": 4,
      "metadata": {
        "id": "LNsPdDxiZblB"
      },
      "outputs": [],
      "source": [
        "AUTO = tf.data.AUTOTUNE\n",
        "BATCH_SIZE = 32\n",
        "IMG_SIZE = 32"
      ]
    },
    {
      "cell_type": "markdown",
      "metadata": {
        "id": "GDCFYs7uZblB"
      },
      "source": [
        "## 画像前処理関数の定義"
      ]
    },
    {
      "cell_type": "code",
      "execution_count": 5,
      "metadata": {
        "id": "h2jlWbYbZblB"
      },
      "outputs": [],
      "source": [
        "def preprocess_image(image, label):\n",
        "    image = tf.image.resize(image, (IMG_SIZE, IMG_SIZE))\n",
        "    image = tf.image.convert_image_dtype(image, tf.float32) / 255.0\n",
        "    return image, label"
      ]
    },
    {
      "cell_type": "markdown",
      "metadata": {
        "id": "SNn1kU3DZblC"
      },
      "source": [
        "## データをTensorFlowの`Dataset`オブジェクトに変換します。"
      ]
    },
    {
      "cell_type": "code",
      "execution_count": 6,
      "metadata": {
        "id": "lUOnMsMhZblC"
      },
      "outputs": [
        {
          "name": "stderr",
          "output_type": "stream",
          "text": [
            "2021-12-23 22:21:11.361172: I tensorflow/core/common_runtime/pluggable_device/pluggable_device_factory.cc:305] Could not identify NUMA node of platform GPU ID 0, defaulting to 0. Your kernel may not have been built with NUMA support.\n",
            "2021-12-23 22:21:11.361440: I tensorflow/core/common_runtime/pluggable_device/pluggable_device_factory.cc:271] Created TensorFlow device (/job:localhost/replica:0/task:0/device:GPU:0 with 0 MB memory) -> physical PluggableDevice (device: 0, name: METAL, pci bus id: <undefined>)\n"
          ]
        },
        {
          "name": "stdout",
          "output_type": "stream",
          "text": [
            "Metal device set to: Apple M1\n",
            "\n",
            "systemMemory: 16.00 GB\n",
            "maxCacheSize: 5.33 GB\n",
            "\n"
          ]
        }
      ],
      "source": [
        "train_ds_one = (\n",
        "    tf.data.Dataset.from_tensor_slices((x_train, y_train))\n",
        "    .shuffle(1024)\n",
        "    .map(preprocess_image, num_parallel_calls=AUTO)\n",
        ")\n",
        "\n",
        "train_ds_two = (\n",
        "    tf.data.Dataset.from_tensor_slices((x_train, y_train))\n",
        "    .shuffle(1024)\n",
        "    .map(preprocess_image, num_parallel_calls=AUTO)\n",
        ")\n",
        "\n",
        "train_ds_simple = tf.data.Dataset.from_tensor_slices((x_train, y_train))\n",
        "\n",
        "test_ds = tf.data.Dataset.from_tensor_slices((x_test, y_test))\n",
        "\n",
        "train_ds_simple = (\n",
        "    train_ds_simple.map(preprocess_image, num_parallel_calls=AUTO)\n",
        "    .batch(BATCH_SIZE)\n",
        "    .prefetch(AUTO)\n",
        ")\n",
        "\n",
        "# 同じトレーニングデータからシャッフルされた2つのデータセットを結合します。\n",
        "train_ds = tf.data.Dataset.zip((train_ds_one, train_ds_two))\n",
        "\n",
        "test_ds = (\n",
        "    test_ds.map(preprocess_image, num_parallel_calls=AUTO)\n",
        "    .batch(BATCH_SIZE)\n",
        "    .prefetch(AUTO)\n",
        ")"
      ]
    },
    {
      "cell_type": "markdown",
      "metadata": {
        "id": "RbNTDd6zZblC"
      },
      "source": [
        "## CutMixデータ補強関数の定義\n",
        "\n",
        "CutMix関数は，2つの `image` と `label` のペアを受け取り、拡張を行います。この関数は[ベータ分布](https://en.wikipedia.org/wiki/Beta_distribution)から `λ(l)` をサンプリングし`get_box` 関数からバウンディングボックスを返します。そして、2枚目の画像（`image2`）をクロップし、この画像を最終的なパディング画像の同じ位置に配置します。"
      ]
    },
    {
      "cell_type": "code",
      "execution_count": 7,
      "metadata": {
        "id": "2epqKFBDZblD"
      },
      "outputs": [],
      "source": [
        "def sample_beta_distribution(size, concentration_0=0.2, concentration_1=0.2):\n",
        "    gamma_1_sample = tf.random.gamma(shape=[size], alpha=concentration_1)\n",
        "    gamma_2_sample = tf.random.gamma(shape=[size], alpha=concentration_0)\n",
        "    return gamma_1_sample / (gamma_1_sample + gamma_2_sample)\n",
        "\n",
        "\n",
        "@tf.function\n",
        "def get_box(lambda_value):\n",
        "    cut_rat = tf.math.sqrt(1.0 - lambda_value)\n",
        "\n",
        "    cut_w = IMG_SIZE * cut_rat  # rw\n",
        "    cut_w = tf.cast(cut_w, tf.int32)\n",
        "\n",
        "    cut_h = IMG_SIZE * cut_rat  # rh\n",
        "    cut_h = tf.cast(cut_h, tf.int32)\n",
        "\n",
        "    cut_x = tf.random.uniform((1,), minval=0, maxval=IMG_SIZE, dtype=tf.int32)  # rx\n",
        "    cut_y = tf.random.uniform((1,), minval=0, maxval=IMG_SIZE, dtype=tf.int32)  # ry\n",
        "\n",
        "    boundaryx1 = tf.clip_by_value(cut_x[0] - cut_w // 2, 0, IMG_SIZE)\n",
        "    boundaryy1 = tf.clip_by_value(cut_y[0] - cut_h // 2, 0, IMG_SIZE)\n",
        "    bbx2 = tf.clip_by_value(cut_x[0] + cut_w // 2, 0, IMG_SIZE)\n",
        "    bby2 = tf.clip_by_value(cut_y[0] + cut_h // 2, 0, IMG_SIZE)\n",
        "\n",
        "    target_h = bby2 - boundaryy1\n",
        "    if target_h == 0:\n",
        "        target_h += 1\n",
        "\n",
        "    target_w = bbx2 - boundaryx1\n",
        "    if target_w == 0:\n",
        "        target_w += 1\n",
        "\n",
        "    return boundaryx1, boundaryy1, target_h, target_w\n",
        "\n",
        "\n",
        "@tf.function\n",
        "def cutmix(train_ds_one, train_ds_two):\n",
        "    (image1, label1), (image2, label2) = train_ds_one, train_ds_two\n",
        "\n",
        "    alpha = [0.25]\n",
        "    beta = [0.25]\n",
        "\n",
        "    # ベータ分布からサンプルを得る\n",
        "    lambda_value = sample_beta_distribution(1, alpha, beta)\n",
        "\n",
        "    # ラムダの定義\n",
        "    lambda_value = lambda_value[0][0]\n",
        "\n",
        "    # バウンディングボックスのオフセット、高さ、幅の取得\n",
        "    boundaryx1, boundaryy1, target_h, target_w = get_box(lambda_value)\n",
        "\n",
        "    # 2枚目の画像（`image2`）からパッチを取得します。\n",
        "    crop2 = tf.image.crop_to_bounding_box(\n",
        "        image2, boundaryy1, boundaryx1, target_h, target_w\n",
        "    )\n",
        "    # 同じオフセットで `image2` パッチ (`crop2`) をパッド化する。\n",
        "    image2 = tf.image.pad_to_bounding_box(\n",
        "        crop2, boundaryy1, boundaryx1, IMG_SIZE, IMG_SIZE\n",
        "    )\n",
        "    # 1枚目の画像（`image1`）からパッチを取得します。\n",
        "    crop1 = tf.image.crop_to_bounding_box(\n",
        "        image1, boundaryy1, boundaryx1, target_h, target_w\n",
        "    )\n",
        "    # 同じオフセットで `image1` パッチ (`crop1`) をパッド化する。\n",
        "    img1 = tf.image.pad_to_bounding_box(\n",
        "        crop1, boundaryy1, boundaryx1, IMG_SIZE, IMG_SIZE\n",
        "    )\n",
        "\n",
        "    # image1` からパッチを引いて、1枚目の画像を修正します。\n",
        "    # (`image2` のパッチを適用する前に)\n",
        "    image1 = image1 - img1\n",
        "    # 修正した `image1` と `image2` を足して、CutMix 画像を作成します。\n",
        "    image = image1 + image2\n",
        "\n",
        "    # 画素数に応じたLambdaの調整\n",
        "    lambda_value = 1 - (target_w * target_h) / (IMG_SIZE * IMG_SIZE)\n",
        "    lambda_value = tf.cast(lambda_value, tf.float32)\n",
        "\n",
        "    # 両画像のラベルを組み合わせる\n",
        "    label = lambda_value * label1 + (1 - lambda_value) * label2\n",
        "    return image, label"
      ]
    },
    {
      "cell_type": "markdown",
      "metadata": {
        "id": "7bvbu6ehZblD"
      },
      "source": [
        "**注**: 2つの画像を組み合わせて1つの画像にしています。\n",
        "\n",
        "## CutMixを適用した後の新しいデータセットを可視化する"
      ]
    },
    {
      "cell_type": "code",
      "execution_count": 8,
      "metadata": {
        "id": "Tk4RE39xZblE"
      },
      "outputs": [
        {
          "name": "stderr",
          "output_type": "stream",
          "text": [
            "2021-12-23 22:24:45.984795: I tensorflow/compiler/mlir/mlir_graph_optimization_pass.cc:185] None of the MLIR Optimization Passes are enabled (registered 2)\n",
            "2021-12-23 22:24:45.985327: W tensorflow/core/platform/profile_utils/cpu_utils.cc:128] Failed to get CPU frequency: 0 Hz\n"
          ]
        },
        {
          "data": {
            "image/png": "[encoded data removed]",
            "text/plain": [
              "<Figure size 720x720 with 9 Axes>"
            ]
          },
          "metadata": {
            "needs_background": "light"
          },
          "output_type": "display_data"
        }
      ],
      "source": [
        "# 新しいデータセットを作成するには、`cutmix`ユーティリティーを使用します。\n",
        "train_ds_cmu = (\n",
        "    train_ds.shuffle(1024)\n",
        "    .map(cutmix, num_parallel_calls=AUTO)\n",
        "    .batch(BATCH_SIZE)\n",
        "    .prefetch(AUTO)\n",
        ")\n",
        "\n",
        "# データセットから9つのサンプルをプレビューしてみましょう。\n",
        "image_batch, label_batch = next(iter(train_ds_cmu))\n",
        "plt.figure(figsize=(10, 10))\n",
        "for i in range(9):\n",
        "    ax = plt.subplot(3, 3, i + 1)\n",
        "    plt.title(class_names[np.argmax(label_batch[i])])\n",
        "    plt.imshow(image_batch[i])\n",
        "    plt.axis(\"off\")"
      ]
    },
    {
      "cell_type": "markdown",
      "metadata": {
        "id": "mvrQUoo_ZblE"
      },
      "source": [
        "## ResNet-20モデルの定義"
      ]
    },
    {
      "cell_type": "code",
      "execution_count": 9,
      "metadata": {
        "id": "HghnL2kfZblE"
      },
      "outputs": [],
      "source": [
        "def resnet_layer(\n",
        "    inputs,\n",
        "    num_filters=16,\n",
        "    kernel_size=3,\n",
        "    strides=1,\n",
        "    activation=\"relu\",\n",
        "    batch_normalization=True,\n",
        "    conv_first=True,\n",
        "):\n",
        "    conv = keras.layers.Conv2D(\n",
        "        num_filters,\n",
        "        kernel_size=kernel_size,\n",
        "        strides=strides,\n",
        "        padding=\"same\",\n",
        "        kernel_initializer=\"he_normal\",\n",
        "        kernel_regularizer=keras.regularizers.l2(1e-4),\n",
        "    )\n",
        "    x = inputs\n",
        "    if conv_first:\n",
        "        x = conv(x)\n",
        "        if batch_normalization:\n",
        "            x = keras.layers.BatchNormalization()(x)\n",
        "        if activation is not None:\n",
        "            x = keras.layers.Activation(activation)(x)\n",
        "    else:\n",
        "        if batch_normalization:\n",
        "            x = keras.layers.BatchNormalization()(x)\n",
        "        if activation is not None:\n",
        "            x = keras.layers.Activation(activation)(x)\n",
        "        x = conv(x)\n",
        "    return x\n",
        "\n",
        "\n",
        "def resnet_v20(input_shape, depth, num_classes=10):\n",
        "    if (depth - 2) % 6 != 0:\n",
        "        raise ValueError(\"depth should be 6n+2 (eg 20, 32, 44 in [a])\")\n",
        "    # モデル定義を開始します。\n",
        "    num_filters = 16\n",
        "    num_res_blocks = int((depth - 2) / 6)\n",
        "\n",
        "    inputs = keras.layers.Input(shape=input_shape)\n",
        "    x = resnet_layer(inputs=inputs)\n",
        "    # 残留ユニットのスタックをインスタンス化\n",
        "    for stack in range(3):\n",
        "        for res_block in range(num_res_blocks):\n",
        "            strides = 1\n",
        "            if stack > 0 and res_block == 0:  # ファーストレイヤーでありながらファーストスタックではない\n",
        "                strides = 2  # ダウンサンプル\n",
        "            y = resnet_layer(inputs=x, num_filters=num_filters, strides=strides)\n",
        "            y = resnet_layer(inputs=y, num_filters=num_filters, activation=None)\n",
        "            if stack > 0 and res_block == 0:  # ファーストレイヤーでありながらファーストスタックではない\n",
        "                # 線形投影 残存するショートカットの接続に一致\n",
        "                # change dims\n",
        "                x = resnet_layer(\n",
        "                    inputs=x,\n",
        "                    num_filters=num_filters,\n",
        "                    kernel_size=1,\n",
        "                    strides=strides,\n",
        "                    activation=None,\n",
        "                    batch_normalization=False,\n",
        "                )\n",
        "            x = keras.layers.add([x, y])\n",
        "            x = keras.layers.Activation(\"relu\")(x)\n",
        "        num_filters *= 2\n",
        "\n",
        "    # Add classifier on top.\n",
        "    # v1 does not use BN after last shortcut connection-ReLU\n",
        "    x = keras.layers.AveragePooling2D(pool_size=8)(x)\n",
        "    y = keras.layers.Flatten()(x)\n",
        "    outputs = keras.layers.Dense(\n",
        "        num_classes, activation=\"softmax\", kernel_initializer=\"he_normal\"\n",
        "    )(y)\n",
        "\n",
        "    # Instantiate model.\n",
        "    model = keras.models.Model(inputs=inputs, outputs=outputs)\n",
        "    return model\n",
        "\n",
        "\n",
        "def training_model():\n",
        "    return resnet_v20((32, 32, 3), 20)\n",
        "\n",
        "\n",
        "initial_model = training_model()\n",
        "initial_model.save_weights(\"initial_weights.h5\")"
      ]
    },
    {
      "cell_type": "markdown",
      "metadata": {
        "id": "_PCtzXfuZblE"
      },
      "source": [
        "## CutMixで拡張されたデータセットでモデルを学習"
      ]
    },
    {
      "cell_type": "code",
      "execution_count": 10,
      "metadata": {
        "id": "towf-IBRZblE"
      },
      "outputs": [
        {
          "name": "stdout",
          "output_type": "stream",
          "text": [
            "Epoch 1/15\n"
          ]
        },
        {
          "name": "stderr",
          "output_type": "stream",
          "text": [
            "2021-12-23 22:26:21.676161: I tensorflow/core/grappler/optimizers/custom_graph_optimizer_registry.cc:112] Plugin optimizer for device_type GPU is enabled.\n"
          ]
        },
        {
          "name": "stdout",
          "output_type": "stream",
          "text": [
            "1563/1563 [==============================] - ETA: 0s - loss: 1.9244 - accuracy: 0.4053"
          ]
        },
        {
          "name": "stderr",
          "output_type": "stream",
          "text": [
            "2021-12-23 22:27:38.330083: I tensorflow/core/grappler/optimizers/custom_graph_optimizer_registry.cc:112] Plugin optimizer for device_type GPU is enabled.\n"
          ]
        },
        {
          "name": "stdout",
          "output_type": "stream",
          "text": [
            "1563/1563 [==============================] - 83s 48ms/step - loss: 1.9244 - accuracy: 0.4053 - val_loss: 1.4003 - val_accuracy: 0.5584\n",
            "Epoch 2/15\n",
            "1563/1563 [==============================] - 72s 46ms/step - loss: 1.6613 - accuracy: 0.5343 - val_loss: 1.9148 - val_accuracy: 0.3926\n",
            "Epoch 3/15\n",
            "1563/1563 [==============================] - 68s 43ms/step - loss: 1.5531 - accuracy: 0.5830 - val_loss: 1.1062 - val_accuracy: 0.6721\n",
            "Epoch 4/15\n",
            "1563/1563 [==============================] - 66s 42ms/step - loss: 1.4899 - accuracy: 0.6142 - val_loss: 1.0326 - val_accuracy: 0.7035\n",
            "Epoch 5/15\n",
            "1563/1563 [==============================] - 72s 46ms/step - loss: 1.4427 - accuracy: 0.6349 - val_loss: 0.9193 - val_accuracy: 0.7354\n",
            "Epoch 6/15\n",
            "1563/1563 [==============================] - 74s 47ms/step - loss: 1.4070 - accuracy: 0.6515 - val_loss: 0.9799 - val_accuracy: 0.7170\n",
            "Epoch 7/15\n",
            "1563/1563 [==============================] - 67s 43ms/step - loss: 1.3832 - accuracy: 0.6648 - val_loss: 0.9575 - val_accuracy: 0.7301\n",
            "Epoch 8/15\n",
            "1563/1563 [==============================] - 69s 44ms/step - loss: 1.3672 - accuracy: 0.6757 - val_loss: 0.8599 - val_accuracy: 0.7658\n",
            "Epoch 9/15\n",
            "1563/1563 [==============================] - 69s 44ms/step - loss: 1.3457 - accuracy: 0.6847 - val_loss: 1.0515 - val_accuracy: 0.6978\n",
            "Epoch 10/15\n",
            "1563/1563 [==============================] - 99s 63ms/step - loss: 1.3333 - accuracy: 0.6903 - val_loss: 0.9578 - val_accuracy: 0.7269\n",
            "Epoch 11/15\n",
            "1563/1563 [==============================] - 57s 37ms/step - loss: 1.3204 - accuracy: 0.6945 - val_loss: 0.8524 - val_accuracy: 0.7783\n",
            "Epoch 12/15\n",
            "1563/1563 [==============================] - 55s 35ms/step - loss: 1.3124 - accuracy: 0.7029 - val_loss: 0.8539 - val_accuracy: 0.7687\n",
            "Epoch 13/15\n",
            "1563/1563 [==============================] - 55s 35ms/step - loss: 1.3057 - accuracy: 0.7013 - val_loss: 0.8428 - val_accuracy: 0.7699\n",
            "Epoch 14/15\n",
            "1563/1563 [==============================] - 57s 37ms/step - loss: 1.2920 - accuracy: 0.7113 - val_loss: 0.8261 - val_accuracy: 0.7872\n",
            "Epoch 15/15\n",
            "1563/1563 [==============================] - 59s 38ms/step - loss: 1.2874 - accuracy: 0.7119 - val_loss: 0.8855 - val_accuracy: 0.7641\n",
            "313/313 [==============================] - 4s 13ms/step - loss: 0.8855 - accuracy: 0.7641\n",
            "Test accuracy: 76.41%\n"
          ]
        }
      ],
      "source": [
        "model = training_model()\n",
        "model.load_weights(\"initial_weights.h5\")\n",
        "\n",
        "model.compile(loss=\"categorical_crossentropy\", optimizer=\"adam\", metrics=[\"accuracy\"])\n",
        "model.fit(train_ds_cmu, validation_data=test_ds, epochs=15)\n",
        "\n",
        "test_loss, test_accuracy = model.evaluate(test_ds)\n",
        "print(\"Test accuracy: {:.2f}%\".format(test_accuracy * 100))"
      ]
    },
    {
      "cell_type": "markdown",
      "metadata": {
        "id": "RAL86K8YZblE"
      },
      "source": [
        "## オーグメンテーションされていないオリジナルのデータセットを使ってモデルをトレーニングする"
      ]
    },
    {
      "cell_type": "code",
      "execution_count": 11,
      "metadata": {
        "id": "3gjcn2b4ZblE"
      },
      "outputs": [
        {
          "name": "stdout",
          "output_type": "stream",
          "text": [
            "Epoch 1/15\n"
          ]
        },
        {
          "name": "stderr",
          "output_type": "stream",
          "text": [
            "2021-12-23 22:44:01.264907: I tensorflow/core/grappler/optimizers/custom_graph_optimizer_registry.cc:112] Plugin optimizer for device_type GPU is enabled.\n"
          ]
        },
        {
          "name": "stdout",
          "output_type": "stream",
          "text": [
            "1563/1563 [==============================] - ETA: 0s - loss: 1.4732 - accuracy: 0.5209"
          ]
        },
        {
          "name": "stderr",
          "output_type": "stream",
          "text": [
            "2021-12-23 22:44:50.673645: I tensorflow/core/grappler/optimizers/custom_graph_optimizer_registry.cc:112] Plugin optimizer for device_type GPU is enabled.\n"
          ]
        },
        {
          "name": "stdout",
          "output_type": "stream",
          "text": [
            "1563/1563 [==============================] - 54s 34ms/step - loss: 1.4732 - accuracy: 0.5209 - val_loss: 1.2967 - val_accuracy: 0.5981\n",
            "Epoch 2/15\n",
            "1563/1563 [==============================] - 57s 36ms/step - loss: 1.0628 - accuracy: 0.6791 - val_loss: 1.1977 - val_accuracy: 0.6501\n",
            "Epoch 3/15\n",
            "1563/1563 [==============================] - 57s 37ms/step - loss: 0.8947 - accuracy: 0.7450 - val_loss: 0.9829 - val_accuracy: 0.7163\n",
            "Epoch 4/15\n",
            "1563/1563 [==============================] - 56s 36ms/step - loss: 0.7903 - accuracy: 0.7822 - val_loss: 1.2201 - val_accuracy: 0.6762\n",
            "Epoch 5/15\n",
            "1563/1563 [==============================] - 57s 37ms/step - loss: 0.7145 - accuracy: 0.8132 - val_loss: 1.1846 - val_accuracy: 0.6917\n",
            "Epoch 6/15\n",
            "1563/1563 [==============================] - 54s 34ms/step - loss: 0.6560 - accuracy: 0.8390 - val_loss: 1.2705 - val_accuracy: 0.6942\n",
            "Epoch 7/15\n",
            "1563/1563 [==============================] - 54s 34ms/step - loss: 0.6082 - accuracy: 0.8596 - val_loss: 1.7398 - val_accuracy: 0.6192\n",
            "Epoch 8/15\n",
            "1563/1563 [==============================] - 54s 34ms/step - loss: 0.5722 - accuracy: 0.8754 - val_loss: 1.2438 - val_accuracy: 0.7082\n",
            "Epoch 9/15\n",
            "1563/1563 [==============================] - 55s 35ms/step - loss: 0.5475 - accuracy: 0.8868 - val_loss: 1.3845 - val_accuracy: 0.6773\n",
            "Epoch 10/15\n",
            "1563/1563 [==============================] - 56s 36ms/step - loss: 0.5226 - accuracy: 0.8991 - val_loss: 1.4852 - val_accuracy: 0.6724\n",
            "Epoch 11/15\n",
            "1563/1563 [==============================] - 55s 35ms/step - loss: 0.5145 - accuracy: 0.9049 - val_loss: 1.4634 - val_accuracy: 0.6942\n",
            "Epoch 12/15\n",
            "1563/1563 [==============================] - 62s 39ms/step - loss: 0.5011 - accuracy: 0.9115 - val_loss: 1.6109 - val_accuracy: 0.6971\n",
            "Epoch 13/15\n",
            "1563/1563 [==============================] - 53s 34ms/step - loss: 0.4876 - accuracy: 0.9194 - val_loss: 1.5998 - val_accuracy: 0.7061\n",
            "Epoch 14/15\n",
            "1563/1563 [==============================] - 58s 37ms/step - loss: 0.4853 - accuracy: 0.9232 - val_loss: 1.5923 - val_accuracy: 0.7026\n",
            "Epoch 15/15\n",
            "1563/1563 [==============================] - 51s 33ms/step - loss: 0.4761 - accuracy: 0.9290 - val_loss: 1.7463 - val_accuracy: 0.6975\n",
            "313/313 [==============================] - 5s 15ms/step - loss: 1.7463 - accuracy: 0.6975\n",
            "Test accuracy: 69.75%\n"
          ]
        }
      ],
      "source": [
        "model = training_model()\n",
        "model.load_weights(\"initial_weights.h5\")\n",
        "model.compile(loss=\"categorical_crossentropy\", optimizer=\"adam\", metrics=[\"accuracy\"])\n",
        "model.fit(train_ds_simple, validation_data=test_ds, epochs=15)\n",
        "\n",
        "test_loss, test_accuracy = model.evaluate(test_ds)\n",
        "print(\"Test accuracy: {:.2f}%\".format(test_accuracy * 100))"
      ]
    },
    {
      "cell_type": "markdown",
      "metadata": {
        "id": "B2mn9mpQZblF"
      },
      "source": [
        "## 備考\n",
        "\n",
        "この例では，モデルを15エポック分学習させた．\n",
        "我々の実験では，CIFAR-10 データセットにおいて，CutMix を使用したモデルは，拡張機能を使用しないモデル（72.70%）と比較して，より良い精度を達成しました．\n",
        "(実験では80.36%)に対し、CutMixを使用していないモデル(72.70%)はより良い精度を達成しています。\n",
        "また、CutMix 拡張機能を使用したモデルの方が、学習時間が短くて済むことがわかります。\n",
        "\n",
        "CutMixのテクニックをさらに試すには、次のような方法があります。\n",
        "[original paper](https://arxiv.org/abs/1905.04899)."
      ]
    }
  ],
  "metadata": {
    "colab": {
      "collapsed_sections": [],
      "name": "..\\examples\\vision\\cutmix",
      "provenance": [],
      "toc_visible": true
    },
    "kernelspec": {
      "display_name": "Python 3",
      "language": "python",
      "name": "python3"
    },
    "language_info": {
      "codemirror_mode": {
        "name": "ipython",
        "version": 3
      },
      "file_extension": ".py",
      "mimetype": "text/x-python",
      "name": "python",
      "nbconvert_exporter": "python",
      "pygments_lexer": "ipython3",
      "version": "3.9.7"
    }
  },
  "nbformat": 4,
  "nbformat_minor": 0
}
