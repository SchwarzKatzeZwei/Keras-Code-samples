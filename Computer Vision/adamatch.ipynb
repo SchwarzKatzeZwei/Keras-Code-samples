{
  "nbformat": 4,
  "nbformat_minor": 2,
  "metadata": {
    "colab": {
      "name": "adamatch",
      "provenance": [],
      "collapsed_sections": [],
      "toc_visible": true
    },
    "kernelspec": {
      "display_name": "Python 3",
      "language": "python",
      "name": "python3"
    },
    "language_info": {
      "codemirror_mode": {
        "name": "ipython",
        "version": 3
      },
      "file_extension": ".py",
      "mimetype": "text/x-python",
      "name": "python",
      "nbconvert_exporter": "python",
      "pygments_lexer": "ipython3",
      "version": "3.7.0"
    }
  },
  "cells": [
    {
      "cell_type": "markdown",
      "source": [
        "# Semi-supervision and domain adaptation with AdaMatch\n",
        "\n",
        "**Author:** [Sayak Paul](https://twitter.com/RisingSayak)<br>\n",
        "**Date created:** 2021/06/19<br>\n",
        "**Last modified:** 2021/06/19<br>\n",
        "**Description:** Unifying semi-supervised learning and unsupervised domain adaptation with AdaMatch."
      ],
      "metadata": {
        "id": "rm5DTYF3E1VA"
      }
    },
    {
      "cell_type": "markdown",
      "source": [
        "## Introduction\n",
        "\n",
        "In this example, we will implement the AdaMatch algorithm, proposed in [AdaMatch: A Unified Approach to Semi-Supervised Learning and Domain Adaptation](https://arxiv.org/abs/2106.04732) by Berthelot et al. It sets a new state-of-the-art in unsupervised domain adaptation (as of June 2021).  \n",
        "AdaMatch is particularly interesting because it unifies semi-supervised learning (SSL) and unsupervised domain adaptation (UDA) under one framework.  \n",
        "It thereby provides a way to perform semi-supervised domain adaptation (SSDA).  \n",
        "This example requires TensorFlow 2.5 or higher, as well as TensorFlow Models, which can be installed using the following command:\n",
        "\n",
        "この例では、[AdaMatch: A Unified Approach to Semi-Supervised Learning and Domain Adaptation](https://arxiv.org/abs/2106.04732)でBerthelotらによって提案されたAdaMatchアルゴリズムを実装します。このアルゴリズムは、教師なしドメイン適応の新たな最先端を示しています（2021年6月現在）。  \n",
        "AdaMatchが特に興味深いのは、半教師付き学習(SSL)と教師なしドメイン適応(UDA)を一つのフレームワークで統合している点です。  \n",
        "これにより、半教師付きドメイン適応（SSDA）を実行する方法を提供します。  \n",
        "この例では、TensorFlow 2.5以上とTensorFlow Modelsが必要ですが、これらは以下のコマンドでインストールできます。"
      ],
      "metadata": {
        "id": "gZB9efwpE1VB"
      }
    },
    {
      "cell_type": "code",
      "execution_count": null,
      "source": [
        "!pip install -q tf-models-official"
      ],
      "outputs": [],
      "metadata": {
        "id": "czsaggXwE1VC"
      }
    },
    {
      "cell_type": "markdown",
      "source": [
        "Before we proceed, let's review a few preliminary concepts underlying this example.\n",
        "\n",
        "その前に、今回の例の基礎となる考え方を少しおさらいしておきましょう。"
      ],
      "metadata": {
        "id": "yQzwxbLYE1VC"
      }
    },
    {
      "cell_type": "markdown",
      "source": [
        "## Preliminaries\n",
        "\n",
        "In **semi-supervised learning (SSL)**, we use a small amount of labeled data to train models on a bigger unlabeled dataset. Popular semi-supervised learning methods for computer vision include [FixMatch](https://arxiv.org/abs/2001.07685), [MixMatch](https://arxiv.org/abs/1905.02249), [Noisy Student Training](https://arxiv.org/abs/1911.04252), etc. You can refer to [this example](https://keras.io/examples/vision/consistency_training/) to get an idea of what a standard SSL workflow looks like.\n",
        "\n",
        "**半教師付き学習(semi-supervised learning, SSL)** では、少量のラベル付きデータを用いて、より大きなラベル無しデータセットに対してモデルを学習します。コンピュータビジョンの半教師付き学習法としては、[FixMatch](https://arxiv.org/abs/2001.07685), [MixMatch](https://arxiv.org/abs/1905.02249), [Noisy Student Training](https://arxiv.org/abs/1911.04252)などが有名です。標準的なSSLのワークフローがどのようなものか、[this example](https://keras.io/examples/vision/consistency_training/)を参考にしてみてください。\n",
        "\n",
        "In **unsupervised domain adaptation**, we have access to a source labeled dataset and a target *unlabeled* dataset. Then the task is to learn a model that can generalize well to the target dataset. The source and the target datasets vary in terms of distribution.\n",
        "The following figure provides an illustration of this idea. In the present example, we use the [MNIST dataset](http://yann.lecun.com/exdb/mnist/) as the source dataset, while the target dataset is [SVHN](http://ufldl.stanford.edu/housenumbers/), which consists of images of house numbers. Both datasets have various varying factors in terms of texture, viewpoint, appearence, etc.: their domains, or distributions, are different from one another.\n",
        "\n",
        "**教師なしドメイン適応** では、ソースとなるラベル付きデータセットとターゲットとなる*ラベルなし*データセットにアクセスできます。タスクは、ターゲットデータセットにうまく一般化できるモデルを学習することである。ソースデータセットとターゲットデータセットは、分布の点で異なります。\n",
        "次の図は、このアイデアを説明するものである。今回の例では、ソースデータセットとして[MNIST dataset](http://yann.lecun.com/exdb/mnist/)を使い、ターゲットデータセットは家の番号の画像で構成された[SVHN](http://ufldl.stanford.edu/housenumbers/)を使います。どちらのデータセットも、テクスチャ、視点、見た目など様々な要素が異なるため、ドメイン（分布）が互いに異なっています。\n",
        "\n",
        "![](https://i.imgur.com/dJFSJuT.png)\n",
        "\n",
        "Popular domain adaptation algorithms in deep learning include [Deep CORAL](https://arxiv.org/abs/1612.01939), [Moment Matching](https://arxiv.org/abs/1812.01754), etc.\n",
        "\n",
        "深層学習でよく使われるドメイン適応アルゴリズムには、[Deep CORAL](https://arxiv.org/abs/1612.01939)、[Moment Matching](https://arxiv.org/abs/1812.01754)などがあります。"
      ],
      "metadata": {
        "id": "MUGEwWTaE1VC"
      }
    },
    {
      "cell_type": "markdown",
      "source": [
        "## Setup"
      ],
      "metadata": {
        "id": "gqN-4ihjE1VE"
      }
    },
    {
      "cell_type": "code",
      "execution_count": null,
      "source": [
        "import tensorflow as tf\n",
        "\n",
        "tf.random.set_seed(42)\n",
        "\n",
        "import numpy as np\n",
        "\n",
        "from tensorflow import keras\n",
        "from tensorflow.keras import layers\n",
        "from tensorflow.keras import regularizers\n",
        "from official.vision.image_classification.augment import RandAugment\n",
        "\n",
        "import tensorflow_datasets as tfds\n",
        "\n",
        "tfds.disable_progress_bar()"
      ],
      "outputs": [],
      "metadata": {
        "id": "82ezRiuKE1VE"
      }
    },
    {
      "cell_type": "markdown",
      "source": [
        "## Prepare the data"
      ],
      "metadata": {
        "id": "dtZRFwsGE1VE"
      }
    },
    {
      "cell_type": "code",
      "execution_count": null,
      "source": [
        "# MNIST\n",
        "(\n",
        "    (mnist_x_train, mnist_y_train),\n",
        "    (mnist_x_test, mnist_y_test),\n",
        ") = keras.datasets.mnist.load_data()\n",
        "\n",
        "# Add a channel dimension\n",
        "mnist_x_train = tf.expand_dims(mnist_x_train, -1)\n",
        "mnist_x_test = tf.expand_dims(mnist_x_test, -1)\n",
        "\n",
        "# Convert the labels to one-hot encoded vectors\n",
        "mnist_y_train = tf.one_hot(mnist_y_train, 10).numpy()\n",
        "\n",
        "# SVHN\n",
        "svhn_train, svhn_test = tfds.load(\n",
        "    \"svhn_cropped\", split=[\"train\", \"test\"], as_supervised=True\n",
        ")"
      ],
      "outputs": [],
      "metadata": {
        "id": "FWvqVY5ME1VE"
      }
    },
    {
      "cell_type": "markdown",
      "source": [
        "## Define constants and hyperparameters"
      ],
      "metadata": {
        "id": "U2AsPcfqE1VE"
      }
    },
    {
      "cell_type": "code",
      "execution_count": null,
      "source": [
        "RESIZE_TO = 32\n",
        "\n",
        "SOURCE_BATCH_SIZE = 64\n",
        "TARGET_BATCH_SIZE = 3 * SOURCE_BATCH_SIZE  # Reference: Section 3.2\n",
        "EPOCHS = 10\n",
        "STEPS_PER_EPOCH = len(mnist_x_train) // SOURCE_BATCH_SIZE\n",
        "TOTAL_STEPS = EPOCHS * STEPS_PER_EPOCH\n",
        "\n",
        "AUTO = tf.data.AUTOTUNE\n",
        "LEARNING_RATE = 0.03\n",
        "\n",
        "WEIGHT_DECAY = 0.0005\n",
        "INIT = \"he_normal\"\n",
        "DEPTH = 28\n",
        "WIDTH_MULT = 2"
      ],
      "outputs": [],
      "metadata": {
        "id": "dEBPN0aAE1VE"
      }
    },
    {
      "cell_type": "markdown",
      "source": [
        "## Data augmentation utilities\n",
        "\n",
        "A standard element of SSL algorithms is to feed weakly and strongly augmented versions of the same images to the learning model to make its predictions consistent. For strong\n",
        "augmentation, [RandAugment](https://arxiv.org/abs/1909.13719) is a standard choice.  \n",
        "For weak augmentation, we will use horizontal flipping and random cropping.\n",
        "\n",
        "SSLアルゴリズムの標準的な要素は，学習モデルの予測に一貫性を持たせるために，同じ画像の弱増強版と強増強版を学習モデルに与えることである．強い\n",
        "augmentationに対しては，[RandAugment](https://arxiv.org/abs/1909.13719)が標準的な選択です． \n",
        "weak augmentationでは、水平方向の反転とランダムクロッピングを使います。"
      ],
      "metadata": {
        "id": "ptvWddLXE1VF"
      }
    },
    {
      "cell_type": "code",
      "execution_count": null,
      "source": [
        "# Initialize `RandAugment` object with 2 layers of\n",
        "# augmentation transforms and strength of 5.\n",
        "augmenter = RandAugment(num_layers=2, magnitude=5)\n",
        "\n",
        "\n",
        "def weak_augment(image, source=True):\n",
        "    if image.dtype != tf.float32:\n",
        "        image = tf.cast(image, tf.float32)\n",
        "\n",
        "    # MNIST images are grayscale, this is why we first convert them to\n",
        "    # RGB images.\n",
        "    if source:\n",
        "        image = tf.image.resize_with_pad(image, RESIZE_TO, RESIZE_TO)\n",
        "        image = tf.tile(image, [1, 1, 3])\n",
        "    image = tf.image.random_flip_left_right(image)\n",
        "    image = tf.image.random_crop(image, (RESIZE_TO, RESIZE_TO, 3))\n",
        "    return image\n",
        "\n",
        "\n",
        "def strong_augment(image, source=True):\n",
        "    if image.dtype != tf.float32:\n",
        "        image = tf.cast(image, tf.float32)\n",
        "\n",
        "    if source:\n",
        "        image = tf.image.resize_with_pad(image, RESIZE_TO, RESIZE_TO)\n",
        "        image = tf.tile(image, [1, 1, 3])\n",
        "    image = augmenter.distort(image)\n",
        "    return image\n"
      ],
      "outputs": [],
      "metadata": {
        "id": "k2uQhK9BE1VF"
      }
    },
    {
      "cell_type": "markdown",
      "source": [
        "## Data loading utilities"
      ],
      "metadata": {
        "id": "ZVB6ldKHE1VF"
      }
    },
    {
      "cell_type": "code",
      "execution_count": null,
      "source": [
        "\n",
        "def create_individual_ds(ds, aug_func, source=True):\n",
        "    if source:\n",
        "        batch_size = SOURCE_BATCH_SIZE\n",
        "    else:\n",
        "        # During training 3x more target unlabeled samples are shown\n",
        "        # to the model in AdaMatch (Section 3.2 of the paper).\n",
        "        batch_size = TARGET_BATCH_SIZE\n",
        "    ds = ds.shuffle(batch_size * 10, seed=42)\n",
        "\n",
        "    if source:\n",
        "        ds = ds.map(lambda x, y: (aug_func(x), y), num_parallel_calls=AUTO)\n",
        "    else:\n",
        "        ds = ds.map(lambda x, y: (aug_func(x, False), y), num_parallel_calls=AUTO)\n",
        "\n",
        "    ds = ds.batch(batch_size).prefetch(AUTO)\n",
        "    return ds\n"
      ],
      "outputs": [],
      "metadata": {
        "id": "u65oyLuDE1VF"
      }
    },
    {
      "cell_type": "markdown",
      "source": [
        "`_w` and `_s` suffixes denote weak and strong respectively.\n",
        "\n",
        "接尾辞の`_w`と`_s`は、それぞれ弱いことと強いことを表しています。"
      ],
      "metadata": {
        "id": "UQhqlTk_E1VF"
      }
    },
    {
      "cell_type": "code",
      "execution_count": null,
      "source": [
        "source_ds = tf.data.Dataset.from_tensor_slices((mnist_x_train, mnist_y_train))\n",
        "source_ds_w = create_individual_ds(source_ds, weak_augment)\n",
        "source_ds_s = create_individual_ds(source_ds, strong_augment)\n",
        "final_source_ds = tf.data.Dataset.zip((source_ds_w, source_ds_s))\n",
        "\n",
        "target_ds_w = create_individual_ds(svhn_train, weak_augment, source=False)\n",
        "target_ds_s = create_individual_ds(svhn_train, strong_augment, source=False)\n",
        "final_target_ds = tf.data.Dataset.zip((target_ds_w, target_ds_s))"
      ],
      "outputs": [],
      "metadata": {
        "id": "4CTxBidAE1VF"
      }
    },
    {
      "cell_type": "markdown",
      "source": [
        "Here's what a single image batch looks like:\n",
        "\n",
        "シングルイメージバッチのイメージはこんな感じです。\n",
        "\n",
        "![](https://i.imgur.com/aver8cG.png)"
      ],
      "metadata": {
        "id": "93KbdWqEE1VG"
      }
    },
    {
      "cell_type": "markdown",
      "source": [
        "## Loss computation utilities"
      ],
      "metadata": {
        "id": "02AYNwTME1VG"
      }
    },
    {
      "cell_type": "code",
      "execution_count": null,
      "source": [
        "\n",
        "def compute_loss_source(source_labels, logits_source_w, logits_source_s):\n",
        "    loss_func = keras.losses.CategoricalCrossentropy(from_logits=True)\n",
        "    # First compute the losses between original source labels and\n",
        "    # predictions made on the weakly and strongly augmented versions\n",
        "    # of the same images.\n",
        "    w_loss = loss_func(source_labels, logits_source_w)\n",
        "    s_loss = loss_func(source_labels, logits_source_s)\n",
        "    return w_loss + s_loss\n",
        "\n",
        "\n",
        "def compute_loss_target(target_pseudo_labels_w, logits_target_s, mask):\n",
        "    loss_func = keras.losses.CategoricalCrossentropy(from_logits=True, reduction=\"none\")\n",
        "    target_pseudo_labels_w = tf.stop_gradient(target_pseudo_labels_w)\n",
        "    # For calculating loss for the target samples, we treat the pseudo labels\n",
        "    # as the ground-truth. These are not considered during backpropagation\n",
        "    # which is a standard SSL practice.\n",
        "    target_loss = loss_func(target_pseudo_labels_w, logits_target_s)\n",
        "\n",
        "    # More on `mask` later.\n",
        "    mask = tf.cast(mask, target_loss.dtype)\n",
        "    target_loss *= mask\n",
        "    return tf.reduce_mean(target_loss, 0)\n"
      ],
      "outputs": [],
      "metadata": {
        "id": "hKvb3d17E1VG"
      }
    },
    {
      "cell_type": "markdown",
      "source": [
        "## Subclassed model for AdaMatch training\n",
        "\n",
        "The figure below presents the overall workflow of AdaMatch (taken from the [original paper](https://arxiv.org/abs/2106.04732)):\n",
        "\n",
        "下図は、AdaMatchの全体的なワークフローを示しています（[原著論文](https://arxiv.org/abs/2106.04732)より引用）。\n",
        "\n",
        "![](https://i.imgur.com/1QsEm2M.png)\n",
        "\n",
        "Here's a brief step-by-step breakdown of the workflow:\n",
        "\n",
        "ここでは、ワークフローを簡単にステップ・バイ・ステップで説明します。\n",
        "\n",
        "1. We first retrieve the weakly and strongly augmented pairs of images from the source and target datasets.\n",
        "2. We prepare two concatenated copies:\n",
        "    i. One where both pairs are concatenated.\n",
        "    ii. One where only the source data image pair is concatenated.\n",
        "3. We run two forward passes through the model:\n",
        "    i. The first forward pass uses the concatenated copy obtained from **2.i**.In this forward pass, the [Batch Normalization](https://arxiv.org/abs/1502.03167) statistics are updated.\n",
        "    ii. In the second forward pass, we only use the concatenated copy obtained from **2.ii**.\n",
        "    Batch Normalization layers are run in inference mode.\n",
        "4. The respective logits are computed for both the forward passes.\n",
        "5. The logits go through a series of transformations, introduced in the paper (which we will discuss shortly).\n",
        "6. We compute the loss and update the gradients of the underlying model.\n",
        "---\n",
        "\n",
        "1. まず，ソースデータセットとターゲットデータセットから，弱く増強された画像と強く増強された画像のペアを検索する．\n",
        "2. 2つの連結されたコピーを用意する．\n",
        "    i. 両方のペアが連結されたもの．\n",
        "    ii. ソース・データ・イメージのペアのみが連結されたもの。\n",
        "3. モデルに2つのフォワードパスを実行する。\n",
        "    i. このフォワードパスでは、[Batch Normalization](https://arxiv.org/abs/1502.03167)の統計値が更新されます。\n",
        "    ii. 2回目のフォワードパスでは、**2.ii**から得られた連結されたコピーのみを使用します。\n",
        "    Batch Normalizationのレイヤーは推論モードで実行されます。\n",
        "4. フォワードパスの両方について、それぞれのロジットを計算する。\n",
        "5. ロジットは論文で紹介されている一連の変換を行う（これについては後述する）。\n",
        "6. 損失を計算し，基礎となるモデルの勾配を更新する．"
      ],
      "metadata": {
        "id": "dgIrBMBRE1VG"
      }
    },
    {
      "cell_type": "code",
      "execution_count": null,
      "source": [
        "\n",
        "class AdaMatch(keras.Model):\n",
        "    def __init__(self, model, total_steps, tau=0.9):\n",
        "        super(AdaMatch, self).__init__()\n",
        "        self.model = model\n",
        "        self.tau = tau  # Denotes the confidence threshold\n",
        "        self.loss_tracker = tf.keras.metrics.Mean(name=\"loss\")\n",
        "        self.total_steps = total_steps\n",
        "        self.current_step = tf.Variable(0, dtype=\"int64\")\n",
        "\n",
        "    @property\n",
        "    def metrics(self):\n",
        "        return [self.loss_tracker]\n",
        "\n",
        "    # This is a warmup schedule to update the weight of the\n",
        "    # loss contributed by the target unlabeled samples. More\n",
        "    # on this in the text.\n",
        "    def compute_mu(self):\n",
        "        pi = tf.constant(np.pi, dtype=\"float32\")\n",
        "        step = tf.cast(self.current_step, dtype=\"float32\")\n",
        "        return 0.5 - tf.cos(tf.math.minimum(pi, (2 * pi * step) / self.total_steps)) / 2\n",
        "\n",
        "    def train_step(self, data):\n",
        "        ## Unpack and organize the data ##\n",
        "        source_ds, target_ds = data\n",
        "        (source_w, source_labels), (source_s, _) = source_ds\n",
        "        (\n",
        "            (target_w, _),\n",
        "            (target_s, _),\n",
        "        ) = target_ds  # Notice that we are NOT using any labels here.\n",
        "\n",
        "        combined_images = tf.concat([source_w, source_s, target_w, target_s], 0)\n",
        "        combined_source = tf.concat([source_w, source_s], 0)\n",
        "\n",
        "        total_source = tf.shape(combined_source)[0]\n",
        "        total_target = tf.shape(tf.concat([target_w, target_s], 0))[0]\n",
        "\n",
        "        with tf.GradientTape() as tape:\n",
        "            ## Forward passes ##\n",
        "            combined_logits = self.model(combined_images, training=True)\n",
        "            z_d_prime_source = self.model(\n",
        "                combined_source, training=False\n",
        "            )  # No BatchNorm update.\n",
        "            z_prime_source = combined_logits[:total_source]\n",
        "\n",
        "            ## 1. Random logit interpolation for the source images ##\n",
        "            lambd = tf.random.uniform((total_source, 10), 0, 1)\n",
        "            final_source_logits = (lambd * z_prime_source) + (\n",
        "                (1 - lambd) * z_d_prime_source\n",
        "            )\n",
        "\n",
        "            ## 2. Distribution alignment (only consider weakly augmented images) ##\n",
        "            # Compute softmax for logits of the WEAKLY augmented SOURCE images.\n",
        "            y_hat_source_w = tf.nn.softmax(final_source_logits[: tf.shape(source_w)[0]])\n",
        "\n",
        "            # Extract logits for the WEAKLY augmented TARGET images and compute softmax.\n",
        "            logits_target = combined_logits[total_source:]\n",
        "            logits_target_w = logits_target[: tf.shape(target_w)[0]]\n",
        "            y_hat_target_w = tf.nn.softmax(logits_target_w)\n",
        "\n",
        "            # Align the target label distribution to that of the source.\n",
        "            expectation_ratio = tf.reduce_mean(y_hat_source_w) / tf.reduce_mean(\n",
        "                y_hat_target_w\n",
        "            )\n",
        "            y_tilde_target_w = tf.math.l2_normalize(\n",
        "                y_hat_target_w * expectation_ratio, 1\n",
        "            )\n",
        "\n",
        "            ## 3. Relative confidence thresholding ##\n",
        "            row_wise_max = tf.reduce_max(y_hat_source_w, axis=-1)\n",
        "            final_sum = tf.reduce_mean(row_wise_max, 0)\n",
        "            c_tau = self.tau * final_sum\n",
        "            mask = tf.reduce_max(y_tilde_target_w, axis=-1) >= c_tau\n",
        "\n",
        "            ## Compute losses (pay attention to the indexing) ##\n",
        "            source_loss = compute_loss_source(\n",
        "                source_labels,\n",
        "                final_source_logits[: tf.shape(source_w)[0]],\n",
        "                final_source_logits[tf.shape(source_w)[0] :],\n",
        "            )\n",
        "            target_loss = compute_loss_target(\n",
        "                y_tilde_target_w, logits_target[tf.shape(target_w)[0] :], mask\n",
        "            )\n",
        "\n",
        "            t = self.compute_mu()  # Compute weight for the target loss\n",
        "            total_loss = source_loss + (t * target_loss)\n",
        "            self.current_step.assign_add(\n",
        "                1\n",
        "            )  # Update current training step for the scheduler\n",
        "\n",
        "        gradients = tape.gradient(total_loss, self.model.trainable_variables)\n",
        "        self.optimizer.apply_gradients(zip(gradients, self.model.trainable_variables))\n",
        "\n",
        "        self.loss_tracker.update_state(total_loss)\n",
        "        return {\"loss\": self.loss_tracker.result()}\n"
      ],
      "outputs": [],
      "metadata": {
        "id": "c8ZDGc9ZE1VG"
      }
    },
    {
      "cell_type": "markdown",
      "source": [
        "The authors introduce three improvements in the paper:\n",
        "\n",
        "本論文では、3つの改善点を紹介しています。\n",
        "\n",
        "* In AdaMatch, we perform two forward passes, and only one of them is respsonsible for updating the Batch Normalization statistics.  \n",
        "This is done to account for distribution shifts in the target dataset.  \n",
        "In the other forward pass, we only use the source sample, and the Batch Normalization layers are run in inference mode.  \n",
        "Logits for the source samples (weakly and strongly augmented versions) from these two passes are slightly different from one another because of how Batch Normalization layers are run.  \n",
        "Final logits for the source samples are computed by linearly interpolating between these two different pairs of logits.  \n",
        "This induces a form of consistency regularization.  \n",
        "This step is referred to as **random logit interpolation**.\n",
        "\n",
        "* **Distribution alignment** is used to align the source and target label distributions.  \n",
        "This further helps the underlying model learn *domain-invariant representations*.  \n",
        "In case of unsupervised domain adaptation, we don't have access to any labels of the target dataset.  \n",
        "This is why pseudo labels are generated from the underlying model.\n",
        "\n",
        "* The underlying model generates pseudo-labels for the target samples.  \n",
        "It's likely that the model would make faulty predictions.  \n",
        "Those can propagate back as we make progress in the training, and hurt the overall performance.  \n",
        "To compensate for that, we filter the high-confidence predictions based on a threshold (hence the use of `mask` inside `compute_loss_target()`).  \n",
        "In AdaMatch, this threshold is relatively adjusted which is why it is called **relative confidence thresholding**.\n",
        "---\n",
        "* AdaMatchでは、2つのフォワードパスを実行し、そのうちの1つだけがBatch Normalization統計の更新を担当します。  \n",
        "これは、ターゲットデータセットの分布の変化を考慮して行われます。  \n",
        "もう一方のフォワードパスでは，ソースサンプルのみを使用し，バッチ正規化レイヤーは推論モードで実行されます。  \n",
        "これらの2つのパスでのソース・サンプル（弱増強バージョンと強増強バージョン）のロジットは，バッチ・ノーマライゼーション・レイヤーがどのように実行されているかによって，互いに若干異なります。  \n",
        "ソースサンプルの最終的なロジットは，これら2つの異なるロジットのペアの間を線形補間することで計算されます。  \n",
        "これにより、整合性正則化の一形態が誘発されます。  \n",
        "このステップは、 **ランダムロジット補間** と呼ばれています。\n",
        "\n",
        "* ソースラベルとターゲットラベルの分布を揃えるために、 **分布調整** を行います。  \n",
        "これにより、基礎となるモデルが「領域不変な表現」を学習するのに役立ちます。  \n",
        "教師なしドメイン適応の場合、ターゲットデータセットのラベルにアクセスすることはできません。  \n",
        "そのため、基礎モデルから擬似的なラベルが生成されます。\n",
        "\n",
        "* 基礎モデルが対象サンプルの疑似ラベルを生成します。  \n",
        "そのモデルが誤った予測をする可能性もあります。  \n",
        "そのような予測は、学習が進むにつれて逆に伝播し、全体のパフォーマンスを低下させてしまいます。  \n",
        "これを補うために，ある閾値に基づいて，信頼度の高い予測をフィルタリングします（そのため，`compute_loss_target()`の中で`mask`を使っています）。  \n",
        "AdaMatchでは、このしきい値は相対的に調整されるので、**相対的信頼度しきい値**と呼ばれています。\n",
        "\n",
        "For more details on these methods and to know how each of them contribute please refer to [the paper](https://arxiv.org/abs/2106.04732).\n",
        "\n",
        "これらの方法の詳細や、それぞれの方法がどのように貢献しているのかについては、[論文](https://arxiv.org/abs/2106.04732)を参照してください。\n",
        "\n",
        "**About `compute_mu()`**:\n",
        "\n",
        "Rather than using a fixed scalar quantity, a varying scalar is used in AdaMatch.  \n",
        "It denotes the weight of the loss contibuted by the target samples.  \n",
        "Visually, the weight scheduler look like so:\n",
        "\n",
        "AdaMatch では、固定のスカラー量を使用するのではなく、変化するスカラーを使用します。  \n",
        "これは、ターゲットサンプルによって構成された損失の重みを表します。  \n",
        "ウェイトスケジューラーは次のようになります。\n",
        "\n",
        "![](https://i.imgur.com/dG7i9uH.png)\n",
        "\n",
        "This scheduler increases the weight of the target domain loss from 0 to 1 for the first half of the training.  \n",
        "Then it keeps that weight at 1 for the second half of the training.\n",
        "\n",
        "このスケジューラーは、トレーニングの前半では、目標とするドメインの損失の重みを0から1に増やし、後半ではその重みを1に保つ。  \n",
        "そして、トレーニングの後半ではその重みを1のままにします。"
      ],
      "metadata": {
        "id": "RiNrzGl7E1VH"
      }
    },
    {
      "cell_type": "markdown",
      "source": [
        "## Instantiate a Wide-ResNet-28-2\n",
        "\n",
        "The authors use a [WideResNet-28-2](https://arxiv.org/abs/1605.07146) for the dataset pairs we are using in this example.  \n",
        "Most of the following code has been referred from [this script](https://github.com/asmith26/wide_resnets_keras/blob/master/main.py).  \n",
        "Note that the following model has a scaling layer inside it that scales the pixel values to [0, 1].\n",
        "\n",
        "この例で使用しているデータセットペアには、著者は[WideResNet-28-2](https://arxiv.org/abs/1605.07146)を使用しています。  \n",
        "以下のコードのほとんどは、[this script](https://github.com/asmith26/wide_resnets_keras/blob/master/main.py)を参考にしています。  \n",
        "なお、以下のモデルは、ピクセル値を[0, 1]にスケーリングするスケーリングレイヤーを内蔵しています。"
      ],
      "metadata": {
        "id": "C4cB7qZxE1VI"
      }
    },
    {
      "cell_type": "code",
      "execution_count": null,
      "source": [
        "\n",
        "def wide_basic(x, n_input_plane, n_output_plane, stride):\n",
        "    conv_params = [[3, 3, stride, \"same\"], [3, 3, (1, 1), \"same\"]]\n",
        "\n",
        "    n_bottleneck_plane = n_output_plane\n",
        "\n",
        "    # Residual block\n",
        "    for i, v in enumerate(conv_params):\n",
        "        if i == 0:\n",
        "            if n_input_plane != n_output_plane:\n",
        "                x = layers.BatchNormalization()(x)\n",
        "                x = layers.Activation(\"relu\")(x)\n",
        "                convs = x\n",
        "            else:\n",
        "                convs = layers.BatchNormalization()(x)\n",
        "                convs = layers.Activation(\"relu\")(convs)\n",
        "            convs = layers.Conv2D(\n",
        "                n_bottleneck_plane,\n",
        "                (v[0], v[1]),\n",
        "                strides=v[2],\n",
        "                padding=v[3],\n",
        "                kernel_initializer=INIT,\n",
        "                kernel_regularizer=regularizers.l2(WEIGHT_DECAY),\n",
        "                use_bias=False,\n",
        "            )(convs)\n",
        "        else:\n",
        "            convs = layers.BatchNormalization()(convs)\n",
        "            convs = layers.Activation(\"relu\")(convs)\n",
        "            convs = layers.Conv2D(\n",
        "                n_bottleneck_plane,\n",
        "                (v[0], v[1]),\n",
        "                strides=v[2],\n",
        "                padding=v[3],\n",
        "                kernel_initializer=INIT,\n",
        "                kernel_regularizer=regularizers.l2(WEIGHT_DECAY),\n",
        "                use_bias=False,\n",
        "            )(convs)\n",
        "\n",
        "    # Shortcut connection: identity function or 1x1\n",
        "    # convolutional\n",
        "    #  (depends on difference between input & output shape - this\n",
        "    #   corresponds to whether we are using the first block in\n",
        "    #   each\n",
        "    #   group; see `block_series()`).\n",
        "    if n_input_plane != n_output_plane:\n",
        "        shortcut = layers.Conv2D(\n",
        "            n_output_plane,\n",
        "            (1, 1),\n",
        "            strides=stride,\n",
        "            padding=\"same\",\n",
        "            kernel_initializer=INIT,\n",
        "            kernel_regularizer=regularizers.l2(WEIGHT_DECAY),\n",
        "            use_bias=False,\n",
        "        )(x)\n",
        "    else:\n",
        "        shortcut = x\n",
        "\n",
        "    return layers.Add()([convs, shortcut])\n",
        "\n",
        "\n",
        "# Stacking residual units on the same stage\n",
        "def block_series(x, n_input_plane, n_output_plane, count, stride):\n",
        "    x = wide_basic(x, n_input_plane, n_output_plane, stride)\n",
        "    for i in range(2, int(count + 1)):\n",
        "        x = wide_basic(x, n_output_plane, n_output_plane, stride=1)\n",
        "    return x\n",
        "\n",
        "\n",
        "def get_network(image_size=32, num_classes=10):\n",
        "    n = (DEPTH - 4) / 6\n",
        "    n_stages = [16, 16 * WIDTH_MULT, 32 * WIDTH_MULT, 64 * WIDTH_MULT]\n",
        "\n",
        "    inputs = keras.Input(shape=(image_size, image_size, 3))\n",
        "    x = layers.experimental.preprocessing.Rescaling(scale=1.0 / 255)(inputs)\n",
        "\n",
        "    conv1 = layers.Conv2D(\n",
        "        n_stages[0],\n",
        "        (3, 3),\n",
        "        strides=1,\n",
        "        padding=\"same\",\n",
        "        kernel_initializer=INIT,\n",
        "        kernel_regularizer=regularizers.l2(WEIGHT_DECAY),\n",
        "        use_bias=False,\n",
        "    )(x)\n",
        "\n",
        "    ## Add wide residual blocks ##\n",
        "\n",
        "    conv2 = block_series(\n",
        "        conv1,\n",
        "        n_input_plane=n_stages[0],\n",
        "        n_output_plane=n_stages[1],\n",
        "        count=n,\n",
        "        stride=(1, 1),\n",
        "    )  # Stage 1\n",
        "\n",
        "    conv3 = block_series(\n",
        "        conv2,\n",
        "        n_input_plane=n_stages[1],\n",
        "        n_output_plane=n_stages[2],\n",
        "        count=n,\n",
        "        stride=(2, 2),\n",
        "    )  # Stage 2\n",
        "\n",
        "    conv4 = block_series(\n",
        "        conv3,\n",
        "        n_input_plane=n_stages[2],\n",
        "        n_output_plane=n_stages[3],\n",
        "        count=n,\n",
        "        stride=(2, 2),\n",
        "    )  # Stage 3\n",
        "\n",
        "    batch_norm = layers.BatchNormalization()(conv4)\n",
        "    relu = layers.Activation(\"relu\")(batch_norm)\n",
        "\n",
        "    # Classifier\n",
        "    trunk_outputs = layers.GlobalAveragePooling2D()(relu)\n",
        "    outputs = layers.Dense(\n",
        "        num_classes, kernel_regularizer=regularizers.l2(WEIGHT_DECAY)\n",
        "    )(trunk_outputs)\n",
        "\n",
        "    return keras.Model(inputs, outputs)\n"
      ],
      "outputs": [],
      "metadata": {
        "id": "7kBF_08jE1VJ"
      }
    },
    {
      "cell_type": "markdown",
      "source": [
        "We can now instantiate a Wide ResNet model like so. Note that the purpose of using a Wide ResNet here is to keep the implementation as close to the original one as possible.\n",
        "\n",
        "これで、Wide ResNetモデルを以下のようにインスタンス化することができます。なお、ここでWide ResNetを使う目的は、実装をできるだけオリジナルに近づけるためです。"
      ],
      "metadata": {
        "id": "WmXZnlzbE1VJ"
      }
    },
    {
      "cell_type": "code",
      "execution_count": null,
      "source": [
        "wrn_model = get_network()\n",
        "print(f\"Model has {wrn_model.count_params()/1e6} Million parameters.\")"
      ],
      "outputs": [],
      "metadata": {
        "id": "NizQy2BDE1VJ"
      }
    },
    {
      "cell_type": "markdown",
      "source": [
        "## Instantiate AdaMatch model and compile it"
      ],
      "metadata": {
        "id": "BvY5HHKzE1VJ"
      }
    },
    {
      "cell_type": "code",
      "execution_count": null,
      "source": [
        "reduce_lr = keras.experimental.CosineDecay(LEARNING_RATE, TOTAL_STEPS, 0.25)\n",
        "optimizer = keras.optimizers.Adam(reduce_lr)\n",
        "\n",
        "adamatch_trainer = AdaMatch(model=wrn_model, total_steps=TOTAL_STEPS)\n",
        "adamatch_trainer.compile(optimizer=optimizer)"
      ],
      "outputs": [],
      "metadata": {
        "id": "vLMCGCDpE1VJ"
      }
    },
    {
      "cell_type": "markdown",
      "source": [
        "## Model training"
      ],
      "metadata": {
        "id": "_mrOLWrQE1VJ"
      }
    },
    {
      "cell_type": "code",
      "execution_count": null,
      "source": [
        "total_ds = tf.data.Dataset.zip((final_source_ds, final_target_ds))\n",
        "adamatch_trainer.fit(total_ds, epochs=EPOCHS)"
      ],
      "outputs": [],
      "metadata": {
        "id": "qSTRz4M7E1VJ"
      }
    },
    {
      "cell_type": "markdown",
      "source": [
        "## Evaluation on the target and source test sets"
      ],
      "metadata": {
        "id": "XQlY5M58E1VJ"
      }
    },
    {
      "cell_type": "code",
      "execution_count": null,
      "source": [
        "# Compile the AdaMatch model to yield accuracy.\n",
        "adamatch_trained_model = adamatch_trainer.model\n",
        "adamatch_trained_model.compile(metrics=keras.metrics.SparseCategoricalAccuracy())\n",
        "\n",
        "# Score on the target test set.\n",
        "svhn_test = svhn_test.batch(TARGET_BATCH_SIZE).prefetch(AUTO)\n",
        "_, accuracy = adamatch_trained_model.evaluate(svhn_test)\n",
        "print(f\"Accuracy on target test set: {accuracy * 100:.2f}%\")"
      ],
      "outputs": [],
      "metadata": {
        "id": "XoCwzk-5E1VJ"
      }
    },
    {
      "cell_type": "markdown",
      "source": [
        "With more training, this score improves. When this same network is trained with standard classification objective, it yields an accuracy of **7.20%** which is significantly lower than what we got with AdaMatch.  \n",
        "You can check out [this notebook](https://colab.research.google.com/github/sayakpaul/AdaMatch-TF/blob/main/Vanilla_WideResNet.ipynb) to learn more about the hyperparameters and other experimental details.\n",
        "\n",
        "トレーニングを重ねることで、このスコアは向上します。同じネットワークを標準的な分類目的で学習した場合、精度は **7.20%** となり、AdaMatchで得られたものよりも著しく低いものとなります。 \n",
        "ハイパーパラメータやその他の実験の詳細については、[this notebook](https://colab.research.google.com/github/sayakpaul/AdaMatch-TF/blob/main/Vanilla_WideResNet.ipynb)をご覧ください"
      ],
      "metadata": {
        "id": "ByZi2TC1E1VJ"
      }
    },
    {
      "cell_type": "code",
      "execution_count": null,
      "source": [
        "\n",
        "# Utility function for preprocessing the source test set.\n",
        "def prepare_test_ds_source(image, label):\n",
        "    image = tf.image.resize_with_pad(image, RESIZE_TO, RESIZE_TO)\n",
        "    image = tf.tile(image, [1, 1, 3])\n",
        "    return image, label\n",
        "\n",
        "\n",
        "source_test_ds = tf.data.Dataset.from_tensor_slices((mnist_x_test, mnist_y_test))\n",
        "source_test_ds = (\n",
        "    source_test_ds.map(prepare_test_ds_source, num_parallel_calls=AUTO)\n",
        "    .batch(TARGET_BATCH_SIZE)\n",
        "    .prefetch(AUTO)\n",
        ")\n",
        "\n",
        "# Evaluation on the source test set.\n",
        "_, accuracy = adamatch_trained_model.evaluate(source_test_ds)\n",
        "print(f\"Accuracy on source test set: {accuracy * 100:.2f}%\")"
      ],
      "outputs": [],
      "metadata": {
        "id": "puarC6JIE1VJ"
      }
    },
    {
      "cell_type": "markdown",
      "source": [
        "You can reproduce the results by using these [model weights](https://github.com/sayakpaul/AdaMatch-TF/releases/tag/v1.0.0).\n",
        "\n",
        "この[モデルウェイト](https://github.com/sayakpaul/AdaMatch-TF/releases/tag/v1.0.0)を使って再現することができます。"
      ],
      "metadata": {
        "id": "NfmHdRYJE1VK"
      }
    },
    {
      "cell_type": "markdown",
      "source": [],
      "metadata": {}
    }
  ]
}